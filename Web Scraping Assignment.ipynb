{
 "cells": [
  {
   "cell_type": "markdown",
   "id": "b68f5958-4a7d-4d7e-8fee-b1d3f3915081",
   "metadata": {},
   "source": [
    "**Q1. What is Web Scraping? Why is it Used? Give three areas where Web Scraping is used to get data.**"
   ]
  },
  {
   "cell_type": "markdown",
   "id": "1eedf944-a25b-4ba8-8fe8-d468c2cad598",
   "metadata": {},
   "source": [
    "Web scraping is the automated process of extracting data from websites.It involves using software tools to crawl through web pages, extract the desired information, and save it in a structured format for further analysis.\n",
    "\n",
    "Three areas Web Scraping is used:\n",
    "\n",
    "1. **Data Aggregation**: Web scraping enables the collection and consolidation of data from multiple sources into a single database.\n",
    "\n",
    "2. **Data Aggregation**: Web scraping enables the collection and consolidation of data from multiple sources into a single database.\n",
    "\n",
    "3. **Financial Data Analysis**: Web scraping is widely used in the financial sector to collect and analyze data related to stocks, commodities, currencies, or other financial instruments. "
   ]
  },
  {
   "cell_type": "code",
   "execution_count": null,
   "id": "422b9b1e-0144-41ba-ac01-1bfe624fea17",
   "metadata": {},
   "outputs": [],
   "source": []
  },
  {
   "cell_type": "markdown",
   "id": "097a2642-5ab1-42da-b6e4-55c56b480aa4",
   "metadata": {},
   "source": [
    "**Q2. What are the different methods used for Web Scraping?**"
   ]
  },
  {
   "cell_type": "markdown",
   "id": "176f4461-35c4-4e2b-8121-916010e3d7e6",
   "metadata": {},
   "source": [
    "Different methods used for Web Scraping:\n",
    "\n",
    "1. **HTML Parsing**: HTML parsing involves analyzing the structure of an HTML page and extracting data using specific HTML tags and attributes.\n",
    "\n",
    "2. **Web Scraping Libraries and Frameworks**: There are several web scraping libraries and frameworks available that simplify the scraping process.\n",
    "\n",
    "3. **API Access**: Some websites provide APIs that allow developers to retrieve structured data directly instead of scraping web pages."
   ]
  },
  {
   "cell_type": "code",
   "execution_count": null,
   "id": "88927734-60c7-4f58-85f1-33d532bb4932",
   "metadata": {},
   "outputs": [],
   "source": []
  },
  {
   "cell_type": "markdown",
   "id": "f4a592c8-3205-41a8-a202-f083ac3a2ce9",
   "metadata": {},
   "source": [
    "**Q3. What is Beautiful Soup? Why is it used?**"
   ]
  },
  {
   "cell_type": "markdown",
   "id": "77bd4e4b-5049-496f-ac60-8ae30f13b397",
   "metadata": {},
   "source": [
    "Beautiful Soup is a popular Python library used for web scraping and parsing HTML and XML documents.\n",
    "\n",
    "Reasons why Beautiful Soup is used:\n",
    "\n",
    "1. HTML and XML Parsing: Beautiful Soup allows to parse HTML and XML documents, making it easy to navigate and extract data from these structured formats. \n",
    "\n",
    "2. Data Extraction: Once we have identified the desired elements in the HTML or XML structure, Beautiful Soup offers methods to extract the data. \n",
    "\n",
    "3. Data Extraction: Once you've identified the desired elements in the HTML or XML structure, Beautiful Soup offers methods to extract the data. "
   ]
  },
  {
   "cell_type": "code",
   "execution_count": null,
   "id": "aec9ce46-c7bf-44fd-a908-55b3a213911b",
   "metadata": {},
   "outputs": [],
   "source": []
  },
  {
   "cell_type": "markdown",
   "id": "e7f90142-a3d6-452c-a779-d83ab059d3d7",
   "metadata": {},
   "source": [
    "**Q4. Why is flask used in this Web Scraping project?**"
   ]
  },
  {
   "cell_type": "markdown",
   "id": "e6e37487-d84d-4e30-ae42-f9045af023c3",
   "metadata": {},
   "source": [
    "Flask is used for this project for the following reason:\n",
    "\n",
    "1. Request Handling: Flask simplified the handling of HTTP requests and responses.\n",
    "\n",
    "2. Scalability and Deployment: Flask is lightweight and particularly well-suited for this type of web scraping projects.\n",
    "\n",
    "3. Integration with Libraries and Tools: Flask was able seamlessly integrate with other Python libraries and tools while building this web scraping projects. \n",
    "\n",
    "4. Flask helped to create a web application with a user interface."
   ]
  },
  {
   "cell_type": "code",
   "execution_count": null,
   "id": "71b7321c-0cad-455e-9d8b-a360a14844bd",
   "metadata": {},
   "outputs": [],
   "source": []
  },
  {
   "cell_type": "markdown",
   "id": "233d9027-15c6-4fef-a420-7723118ba25e",
   "metadata": {},
   "source": [
    "**Q5. Write the names of AWS services used in this project. Also, explain the use of each service.**"
   ]
  },
  {
   "cell_type": "markdown",
   "id": "3374c768-d839-4c71-b5f1-56390f3506be",
   "metadata": {},
   "source": [
    "I used two AWS services for my project:\n",
    "\n",
    "1. Elastic Beanstalk\n",
    "2. CodePipeline\n",
    "\n",
    "**Elastic Beanstalk**:\n",
    "\n",
    "Elastic Beanstalk simplified the deployment, scaling, and management of web applications. It automates the setup and configuration of the underlying infrastructure, allowing developers to focus on writing code and building applications rather than managing the infrastructure details.\n",
    "\n",
    "\n",
    "**CodePipeline**: \n",
    "\n",
    "CodePipeline is a fully managed continuous delivery service provided by Amazon Web Services (AWS). It is designed to facilitate the building, testing, and deployment of software applications in a streamlined and automated manner."
   ]
  },
  {
   "cell_type": "code",
   "execution_count": null,
   "id": "002a36ed-10d0-4a66-9a2b-697b3b13ae1b",
   "metadata": {},
   "outputs": [],
   "source": []
  },
  {
   "cell_type": "code",
   "execution_count": null,
   "id": "e47ce8c1-b579-4d6d-b433-f12fdca5cfe0",
   "metadata": {},
   "outputs": [],
   "source": []
  },
  {
   "cell_type": "code",
   "execution_count": null,
   "id": "fadc3048-5fdd-49bb-88ef-2a2d09ca4be2",
   "metadata": {},
   "outputs": [],
   "source": []
  }
 ],
 "metadata": {
  "kernelspec": {
   "display_name": "Python 3 (ipykernel)",
   "language": "python",
   "name": "python3"
  },
  "language_info": {
   "codemirror_mode": {
    "name": "ipython",
    "version": 3
   },
   "file_extension": ".py",
   "mimetype": "text/x-python",
   "name": "python",
   "nbconvert_exporter": "python",
   "pygments_lexer": "ipython3",
   "version": "3.10.8"
  }
 },
 "nbformat": 4,
 "nbformat_minor": 5
}
